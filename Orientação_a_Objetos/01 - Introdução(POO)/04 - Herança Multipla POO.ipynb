{
 "cells": [
  {
   "cell_type": "code",
   "execution_count": 128,
   "metadata": {},
   "outputs": [],
   "source": [
    "# Classe Pai (Base).\n",
    "class Animais():\n",
    "    def __init__(self, peso, altura):\n",
    "        self.peso = peso\n",
    "        self.altura = altura\n",
    "    \n",
    "    def __str__(self):\n",
    "        return f'{self.__class__.__name__} -> {', '.join(f'{chave} : {valor}' for chave, valor in self.__dict__.items())}'"
   ]
  },
  {
   "cell_type": "code",
   "execution_count": 129,
   "metadata": {},
   "outputs": [],
   "source": [
    "# Classe Filho de Animais.\n",
    "class Mamíferos(Animais):\n",
    "    def __init__(self, nro_patas, **kw):\n",
    "        super().__init__(**kw)\n",
    "        self.nro_patas = nro_patas\n",
    "\n",
    "\n",
    "class Aves(Animais):\n",
    "    def __init__(self, cor, **kw):\n",
    "        super().__init__(**kw)\n",
    "        self.cor = cor"
   ]
  },
  {
   "cell_type": "code",
   "execution_count": 130,
   "metadata": {},
   "outputs": [],
   "source": [
    "# Classe Neto de Animais.\n",
    "class Cachorro(Mamíferos):\n",
    "    pass\n",
    "\n",
    "\n",
    "class Ornitorrinco(Mamíferos, Aves):\n",
    "    pass"
   ]
  },
  {
   "cell_type": "code",
   "execution_count": 131,
   "metadata": {},
   "outputs": [
    {
     "name": "stdout",
     "output_type": "stream",
     "text": [
      "Cachorro -> peso : 15, altura : 30, nro_patas : 4\n"
     ]
    }
   ],
   "source": [
    "dog =  Cachorro(peso=15, altura=30, nro_patas=4)\n",
    "print(dog)"
   ]
  },
  {
   "cell_type": "code",
   "execution_count": 132,
   "metadata": {},
   "outputs": [
    {
     "name": "stdout",
     "output_type": "stream",
     "text": [
      "Ornitorrinco -> peso : 20, altura : 34, cor : Blue, nro_patas : 2\n"
     ]
    }
   ],
   "source": [
    "bicho = Ornitorrinco(peso=20, altura=34, cor='Blue', nro_patas=2)\n",
    "print(bicho)"
   ]
  },
  {
   "cell_type": "code",
   "execution_count": 133,
   "metadata": {},
   "outputs": [
    {
     "data": {
      "text/plain": [
       "[__main__.Ornitorrinco,\n",
       " __main__.Mamíferos,\n",
       " __main__.Aves,\n",
       " __main__.Animais,\n",
       " object]"
      ]
     },
     "execution_count": 133,
     "metadata": {},
     "output_type": "execute_result"
    }
   ],
   "source": [
    "Ornitorrinco.__mro__\n",
    "Ornitorrinco.mro()"
   ]
  }
 ],
 "metadata": {
  "kernelspec": {
   "display_name": "Python 3",
   "language": "python",
   "name": "python3"
  },
  "language_info": {
   "codemirror_mode": {
    "name": "ipython",
    "version": 3
   },
   "file_extension": ".py",
   "mimetype": "text/x-python",
   "name": "python",
   "nbconvert_exporter": "python",
   "pygments_lexer": "ipython3",
   "version": "3.12.1"
  }
 },
 "nbformat": 4,
 "nbformat_minor": 2
}
