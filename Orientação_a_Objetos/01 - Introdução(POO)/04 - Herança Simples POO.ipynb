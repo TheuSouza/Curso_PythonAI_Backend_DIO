{
 "cells": [
  {
   "cell_type": "code",
   "execution_count": 40,
   "metadata": {},
   "outputs": [],
   "source": [
    "class Veiculo():\n",
    "    def __init__(self, marca, modelo, ano, cor, placa, numero_rodas):\n",
    "        self.marca = marca\n",
    "        self.modelo = modelo\n",
    "        self.ano = ano\n",
    "        self.cor = cor\n",
    "        self.placa = placa\n",
    "        self.numero_rodas = numero_rodas\n",
    "    \n",
    "    def ligar_motor(self):\n",
    "        print('Ligando motor')\n",
    "    \n",
    "    def __str__(self):\n",
    "        return f'{self.__class__.__name__} -> {', '.join([f'{chave} : {valor}' for chave, valor in self.__dict__.items()])}'\n",
    "\n",
    "\n",
    "class Motocicleta(Veiculo):\n",
    "    pass\n",
    "\n",
    "    \n",
    "class Caminhao(Veiculo):\n",
    "    pass\n",
    "\n",
    "\n",
    "class Carro(Veiculo):\n",
    "    def __init__(self, marca, modelo, ano, cor, placa, numero_rodas, passageiros):\n",
    "        super().__init__(marca, modelo, ano, cor, placa, numero_rodas)\n",
    "        self.passageiros = passageiros\n"
   ]
  },
  {
   "cell_type": "code",
   "execution_count": 41,
   "metadata": {},
   "outputs": [],
   "source": [
    "carro = Carro('Volkswagem', 'Parati', 2008, 'Branco', 'DMN-5F46', 4, 5)"
   ]
  },
  {
   "cell_type": "code",
   "execution_count": 42,
   "metadata": {},
   "outputs": [
    {
     "data": {
      "text/plain": [
       "'Carro -> marca : Volkswagem, modelo : Parati, ano : 2008, cor : Branco, placa : DMN-5F46, numero_rodas : 4, passageiros : 5'"
      ]
     },
     "execution_count": 42,
     "metadata": {},
     "output_type": "execute_result"
    }
   ],
   "source": [
    "carro.__str__()"
   ]
  }
 ],
 "metadata": {
  "kernelspec": {
   "display_name": "Python 3",
   "language": "python",
   "name": "python3"
  },
  "language_info": {
   "codemirror_mode": {
    "name": "ipython",
    "version": 3
   },
   "file_extension": ".py",
   "mimetype": "text/x-python",
   "name": "python",
   "nbconvert_exporter": "python",
   "pygments_lexer": "ipython3",
   "version": "3.12.1"
  }
 },
 "nbformat": 4,
 "nbformat_minor": 2
}
