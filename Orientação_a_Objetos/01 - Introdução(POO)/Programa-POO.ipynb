{
 "cells": [
  {
   "cell_type": "code",
   "execution_count": 83,
   "metadata": {},
   "outputs": [],
   "source": [
    "class bicicleta:\n",
    "    def __init__(self, cor, modelo, ano, valor):\n",
    "        self.cor = cor\n",
    "        self.modelo = modelo\n",
    "        self.ano = ano\n",
    "        self.valor = valor\n",
    "    \n",
    "    def buzinar(self):\n",
    "        print('bi-bi!')\n",
    "    \n",
    "    def parar(self):\n",
    "        print('parando...')\n",
    "    \n",
    "    def correr(self):\n",
    "        print('correndo...')\n",
    "    \n",
    "    def __str__(self):\n",
    "        # return f'Marca:{self.modelo} Cor:{self.cor} Ano:{self.ano} R$:{self.valor}'\n",
    "        return f'{self.__class__.__name__} -> {' '.join([f'{chave}:{valor}' for chave, valor in self.__dict__.items()])}'\n",
    "    "
   ]
  },
  {
   "cell_type": "code",
   "execution_count": 84,
   "metadata": {},
   "outputs": [],
   "source": [
    "b01 = bicicleta('Azul', 'Monark', 2017, 550)\n",
    "b02 = bicicleta('Verde', 'Caloi', 2020, 600)"
   ]
  },
  {
   "cell_type": "code",
   "execution_count": 85,
   "metadata": {},
   "outputs": [
    {
     "name": "stdout",
     "output_type": "stream",
     "text": [
      "Marca:Monark Cor:Azul Ano:2017 R$:550\n"
     ]
    }
   ],
   "source": [
    "print(f'Marca:{b01.modelo} Cor:{b01.cor} Ano:{b01.ano} R$:{b01.valor}')"
   ]
  },
  {
   "cell_type": "code",
   "execution_count": 86,
   "metadata": {},
   "outputs": [
    {
     "name": "stdout",
     "output_type": "stream",
     "text": [
      "bi-bi!\n",
      "bi-bi!\n"
     ]
    }
   ],
   "source": [
    "b02.buzinar()\n",
    "bicicleta.buzinar(b02)"
   ]
  },
  {
   "cell_type": "code",
   "execution_count": 87,
   "metadata": {},
   "outputs": [
    {
     "data": {
      "text/plain": [
       "'bicicleta -> cor:Verde modelo:Caloi ano:2020 valor:600'"
      ]
     },
     "execution_count": 87,
     "metadata": {},
     "output_type": "execute_result"
    }
   ],
   "source": [
    "b02.__str__()"
   ]
  }
 ],
 "metadata": {
  "kernelspec": {
   "display_name": "Python 3",
   "language": "python",
   "name": "python3"
  },
  "language_info": {
   "codemirror_mode": {
    "name": "ipython",
    "version": 3
   },
   "file_extension": ".py",
   "mimetype": "text/x-python",
   "name": "python",
   "nbconvert_exporter": "python",
   "pygments_lexer": "ipython3",
   "version": "3.12.1"
  }
 },
 "nbformat": 4,
 "nbformat_minor": 2
}
