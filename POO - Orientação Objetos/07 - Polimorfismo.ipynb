{
 "cells": [
  {
   "cell_type": "code",
   "execution_count": 1,
   "metadata": {},
   "outputs": [],
   "source": [
    "# FIXME: Polimorfismo com herança.\n",
    "\n",
    "class Passaro:\n",
    "    def voar(self):\n",
    "        print('Voando...')\n",
    "\n",
    "class Pardal(Passaro):\n",
    "    def voar(self):\n",
    "        super().voar()\n",
    "\n",
    "class Avestruz(Passaro):\n",
    "    def voar(self):\n",
    "        print('Avestruz não pode voar...')\n",
    "\n",
    "\n",
    "def plano_voo(obj):\n",
    "    obj.voar()"
   ]
  },
  {
   "cell_type": "code",
   "execution_count": 7,
   "metadata": {},
   "outputs": [
    {
     "name": "stdout",
     "output_type": "stream",
     "text": [
      "Voando...\n"
     ]
    }
   ],
   "source": [
    "canario = Passaro()\n",
    "plano_voo(canario)"
   ]
  },
  {
   "cell_type": "code",
   "execution_count": 9,
   "metadata": {},
   "outputs": [
    {
     "name": "stdout",
     "output_type": "stream",
     "text": [
      "Voando...\n"
     ]
    }
   ],
   "source": [
    "par = Pardal()\n",
    "plano_voo(par)"
   ]
  },
  {
   "cell_type": "code",
   "execution_count": 8,
   "metadata": {},
   "outputs": [
    {
     "name": "stdout",
     "output_type": "stream",
     "text": [
      "Avestruz não pode voar...\n"
     ]
    }
   ],
   "source": [
    "avez = Avestruz()\n",
    "plano_voo(avez)"
   ]
  }
 ],
 "metadata": {
  "kernelspec": {
   "display_name": "Python 3",
   "language": "python",
   "name": "python3"
  },
  "language_info": {
   "codemirror_mode": {
    "name": "ipython",
    "version": 3
   },
   "file_extension": ".py",
   "mimetype": "text/x-python",
   "name": "python",
   "nbconvert_exporter": "python",
   "pygments_lexer": "ipython3",
   "version": "3.12.1"
  }
 },
 "nbformat": 4,
 "nbformat_minor": 2
}
