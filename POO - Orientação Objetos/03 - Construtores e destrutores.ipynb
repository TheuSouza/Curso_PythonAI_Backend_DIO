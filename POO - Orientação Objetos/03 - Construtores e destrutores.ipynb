{
 "cells": [
  {
   "cell_type": "code",
   "execution_count": 36,
   "metadata": {},
   "outputs": [],
   "source": [
    "class cachorro:\n",
    "    def __init__(self, nome, cor):\n",
    "        self.nome = nome\n",
    "        self.cor = cor\n",
    "    \n",
    "    def __str__(self):\n",
    "        return f'{self.__class__.__name__} -> {', '.join([f'{chave} : {valor}' for chave, valor in self.__dict__.items()])}'"
   ]
  },
  {
   "cell_type": "code",
   "execution_count": 37,
   "metadata": {},
   "outputs": [
    {
     "data": {
      "text/plain": [
       "'cachorro -> nome : Caramelo, cor : Marrom'"
      ]
     },
     "execution_count": 37,
     "metadata": {},
     "output_type": "execute_result"
    }
   ],
   "source": [
    "dog = cachorro('Caramelo', 'Marrom')\n",
    "\n",
    "dog.__str__()"
   ]
  }
 ],
 "metadata": {
  "kernelspec": {
   "display_name": "Python 3",
   "language": "python",
   "name": "python3"
  },
  "language_info": {
   "codemirror_mode": {
    "name": "ipython",
    "version": 3
   },
   "file_extension": ".py",
   "mimetype": "text/x-python",
   "name": "python",
   "nbconvert_exporter": "python",
   "pygments_lexer": "ipython3",
   "version": "3.12.1"
  }
 },
 "nbformat": 4,
 "nbformat_minor": 2
}
