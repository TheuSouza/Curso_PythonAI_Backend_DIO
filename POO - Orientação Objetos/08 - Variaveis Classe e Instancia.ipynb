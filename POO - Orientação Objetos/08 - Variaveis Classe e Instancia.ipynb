{
 "cells": [
  {
   "cell_type": "code",
   "execution_count": 1,
   "metadata": {},
   "outputs": [],
   "source": [
    "class Estudantes:\n",
    "    escola = 'DIO'\n",
    "\n",
    "    def __init__(self, nome, matricula):\n",
    "        self.nome = nome\n",
    "        self.matricula = matricula\n",
    "    \n",
    "    def __str__(self):\n",
    "        return f'{self.nome} - {self.matricula} -> {self.escola}'\n",
    "\n",
    "\n",
    "def mostrar_estudantes(*objs):\n",
    "    for obj in objs:\n",
    "        print(obj)\n",
    "\n",
    "\n",
    "estudante1 = Estudantes('João', 123)\n",
    "estudante2 = Estudantes('Maria', 456)\n",
    "estudante3 = Estudantes('José', 789)"
   ]
  },
  {
   "cell_type": "code",
   "execution_count": 2,
   "metadata": {},
   "outputs": [
    {
     "name": "stdout",
     "output_type": "stream",
     "text": [
      "João - 123 -> DIO\n",
      "Maria - 456 -> DIO\n",
      "José - 789 -> DIO\n"
     ]
    }
   ],
   "source": [
    "mostrar_estudantes(estudante1, estudante2, estudante3)"
   ]
  }
 ],
 "metadata": {
  "kernelspec": {
   "display_name": "Python 3",
   "language": "python",
   "name": "python3"
  },
  "language_info": {
   "codemirror_mode": {
    "name": "ipython",
    "version": 3
   },
   "file_extension": ".py",
   "mimetype": "text/x-python",
   "name": "python",
   "nbconvert_exporter": "python",
   "pygments_lexer": "ipython3",
   "version": "3.12.1"
  }
 },
 "nbformat": 4,
 "nbformat_minor": 2
}
