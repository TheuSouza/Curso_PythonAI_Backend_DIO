{
 "cells": [
  {
   "cell_type": "code",
   "execution_count": 13,
   "metadata": {},
   "outputs": [],
   "source": [
    "from datetime import datetime\n",
    "\n",
    "data_hora_atual = datetime.now()\n",
    "data_hora_str = '2024-01-01 20:30'\n",
    "mascara_ptbr = '%d/%d/%Y %H:%M'"
   ]
  },
  {
   "cell_type": "code",
   "execution_count": 14,
   "metadata": {},
   "outputs": [
    {
     "name": "stdout",
     "output_type": "stream",
     "text": [
      "01/01/2024 12:12\n"
     ]
    }
   ],
   "source": [
    "print(data_hora_atual.strftime(mascara_ptbr))"
   ]
  },
  {
   "cell_type": "code",
   "execution_count": 22,
   "metadata": {},
   "outputs": [
    {
     "name": "stdout",
     "output_type": "stream",
     "text": [
      "01/01/2024 20:30\n"
     ]
    }
   ],
   "source": [
    "# Convertendo STRING em Data e Hora\n",
    "data_hora_convertido = datetime.strptime(data_hora_str, '%Y-%m-%d %H:%M')\n",
    "\n",
    "# Mostrando Data e Hora convertida mudando ordem de exibição.\n",
    "print(data_hora_convertido.strftime(mascara_ptbr))"
   ]
  }
 ],
 "metadata": {
  "kernelspec": {
   "display_name": "Python 3",
   "language": "python",
   "name": "python3"
  },
  "language_info": {
   "codemirror_mode": {
    "name": "ipython",
    "version": 3
   },
   "file_extension": ".py",
   "mimetype": "text/x-python",
   "name": "python",
   "nbconvert_exporter": "python",
   "pygments_lexer": "ipython3",
   "version": "3.12.1"
  }
 },
 "nbformat": 4,
 "nbformat_minor": 2
}
