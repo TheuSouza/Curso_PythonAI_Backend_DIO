{
 "cells": [
  {
   "cell_type": "code",
   "execution_count": 20,
   "metadata": {},
   "outputs": [
    {
     "name": "stdout",
     "output_type": "stream",
     "text": [
      "2024-06-19 13:48:00\n"
     ]
    }
   ],
   "source": [
    "from datetime import datetime, timedelta, date\n",
    "\n",
    "data_hora = datetime(2024, 6, 19, 13, 48, 00)\n",
    "print(data_hora)"
   ]
  },
  {
   "cell_type": "code",
   "execution_count": 21,
   "metadata": {},
   "outputs": [
    {
     "name": "stdout",
     "output_type": "stream",
     "text": [
      "2024-06-28 18:48:00\n"
     ]
    }
   ],
   "source": [
    "data_hora = data_hora + timedelta(hours=5, days=2, weeks=1)\n",
    "print(data_hora)"
   ]
  },
  {
   "cell_type": "code",
   "execution_count": 22,
   "metadata": {},
   "outputs": [
    {
     "name": "stdout",
     "output_type": "stream",
     "text": [
      "2024-06-17\n"
     ]
    }
   ],
   "source": [
    "print(date.today() - timedelta(days=2))"
   ]
  },
  {
   "cell_type": "code",
   "execution_count": 24,
   "metadata": {},
   "outputs": [
    {
     "name": "stdout",
     "output_type": "stream",
     "text": [
      "11:48:00\n"
     ]
    }
   ],
   "source": [
    "resultado = datetime(2024, 6, 19, 13, 48, 00) - timedelta(hours=2)\n",
    "print(resultado.time())"
   ]
  },
  {
   "cell_type": "code",
   "execution_count": 25,
   "metadata": {},
   "outputs": [
    {
     "name": "stdout",
     "output_type": "stream",
     "text": [
      "2024-06-19\n"
     ]
    }
   ],
   "source": [
    "print(datetime.now().date())"
   ]
  }
 ],
 "metadata": {
  "kernelspec": {
   "display_name": "Python 3",
   "language": "python",
   "name": "python3"
  },
  "language_info": {
   "codemirror_mode": {
    "name": "ipython",
    "version": 3
   },
   "file_extension": ".py",
   "mimetype": "text/x-python",
   "name": "python",
   "nbconvert_exporter": "python",
   "pygments_lexer": "ipython3",
   "version": "3.12.1"
  }
 },
 "nbformat": 4,
 "nbformat_minor": 2
}
