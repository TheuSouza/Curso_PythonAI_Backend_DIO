{
 "cells": [
  {
   "cell_type": "code",
   "execution_count": 8,
   "metadata": {},
   "outputs": [],
   "source": [
    "from datetime import datetime, timezone, timedelta\n",
    "import pytz\n"
   ]
  },
  {
   "cell_type": "code",
   "execution_count": 6,
   "metadata": {},
   "outputs": [
    {
     "name": "stdout",
     "output_type": "stream",
     "text": [
      "2024-07-02 02:02:03.457156+09:00 -> Tokyo\n",
      "2024-07-01 17:02:03.458157+00:00 -> UTC\n"
     ]
    }
   ],
   "source": [
    "d = datetime.now(pytz.timezone('Asia/Tokyo'))\n",
    "u = datetime.now(pytz.timezone('UTC'))\n",
    "\n",
    "print(f'{d} -> Tokyo')\n",
    "print(f'{u} -> UTC')"
   ]
  },
  {
   "cell_type": "code",
   "execution_count": 17,
   "metadata": {},
   "outputs": [
    {
     "name": "stdout",
     "output_type": "stream",
     "text": [
      "2024-07-01 14:10:20.444647-03:00\n",
      "2024-07-01 17:10:20.444647+00:00\n"
     ]
    }
   ],
   "source": [
    "data_sao_paulo =  datetime.now(timezone(timedelta(hours=-3)))\n",
    "data_utc =  datetime.now(timezone(timedelta(hours=0)))\n",
    "\n",
    "print(data_sao_paulo)\n",
    "print(data_utc)"
   ]
  }
 ],
 "metadata": {
  "kernelspec": {
   "display_name": "Python 3",
   "language": "python",
   "name": "python3"
  },
  "language_info": {
   "codemirror_mode": {
    "name": "ipython",
    "version": 3
   },
   "file_extension": ".py",
   "mimetype": "text/x-python",
   "name": "python",
   "nbconvert_exporter": "python",
   "pygments_lexer": "ipython3",
   "version": "3.12.1"
  }
 },
 "nbformat": 4,
 "nbformat_minor": 2
}
