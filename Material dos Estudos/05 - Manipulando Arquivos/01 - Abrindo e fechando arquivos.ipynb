{
 "cells": [
  {
   "cell_type": "code",
   "execution_count": null,
   "metadata": {},
   "outputs": [],
   "source": [
    "# Para ler um arquivo.\n",
    "file = open('exemplo.txt', 'r')\n",
    "\n",
    "# Para escrever no arquivo.\n",
    "file = open('exemplo.txt', 'w')\n",
    "\n",
    "# Para adicionar ao arquivo sem apagar o conteúdo anterior.\n",
    "file = open('exemplo.txt', 'a')\n",
    "\n",
    "# Para fechar o arquivo aberto.\n",
    "file.close()"
   ]
  },
  {
   "cell_type": "code",
   "execution_count": null,
   "metadata": {},
   "outputs": [],
   "source": []
  }
 ],
 "metadata": {
  "language_info": {
   "name": "python"
  }
 },
 "nbformat": 4,
 "nbformat_minor": 2
}
