{
 "cells": [
  {
   "cell_type": "markdown",
   "metadata": {},
   "source": [
    "#### Abrindo e Fechando Arquivos:"
   ]
  },
  {
   "cell_type": "code",
   "execution_count": null,
   "metadata": {},
   "outputs": [],
   "source": [
    "# Para ler um arquivo.\n",
    "file = open('exemplo.txt', 'r')\n",
    "\n",
    "# Para escrever no arquivo.\n",
    "file = open('exemplo.txt', 'w')\n",
    "\n",
    "# Para adicionar ao arquivo sem apagar o conteúdo anterior.\n",
    "file = open('exemplo.txt', 'a')\n",
    "\n",
    "# Para fechar o arquivo aberto.\n",
    "file.close()"
   ]
  },
  {
   "cell_type": "markdown",
   "metadata": {},
   "source": [
    "#### Lendo Arquivos."
   ]
  },
  {
   "cell_type": "code",
   "execution_count": null,
   "metadata": {},
   "outputs": [],
   "source": [
    "# Lê todo o conteúdo de uma unica vez e trasforma em uma stringer.\n",
    "file = open('exemplo.txt', 'r', encoding='utf8')\n",
    "print(file.read())\n",
    "file.close()"
   ]
  },
  {
   "cell_type": "code",
   "execution_count": 10,
   "metadata": {},
   "outputs": [
    {
     "name": "stdout",
     "output_type": "stream",
     "text": [
      "この風はどこから来たのと\n",
      "\n"
     ]
    }
   ],
   "source": [
    "# Lê uma linha por vez.\n",
    "file = open('exemplo.txt', 'r', encoding='utf8')\n",
    "print(file.readline())\n",
    "file.close()"
   ]
  },
  {
   "cell_type": "code",
   "execution_count": 9,
   "metadata": {},
   "outputs": [
    {
     "name": "stdout",
     "output_type": "stream",
     "text": [
      "['この風はどこから来たのと\\n', 'kono kaze wa doko kara kita no to\\n', '問いかけても空は何も言わない\\n', 'toikakete mo sora wa nani mo iwanai\\n', 'この歌はどこへ辿り着くの\\n', 'kono uta wa doko e tadoritsuku no\\n', '見つけたいよ 自分だけの答えを\\n', 'mitsuketai yo jibun dake no kotae wo\\n', 'まだ知らない海の果てへと漕ぎ出そう\\n', 'mada shiranai umi no hate e to kogidasou\\n', '\\n', 'ただひとつの夢 決して譲れない\\n', 'tada hitotsu no yume kesshite yuzurenai\\n', '心に帆をあげて 願いのまま進め\\n', 'kokoro ni ho wo agete negai no mama susume\\n', 'いつだってあなたへ届くように歌うわ\\n', 'itsudatte anata e todoku you ni utau wa\\n', '大海原を駆ける 新しい風になれ\\n', 'oounabara wo kakeru atarashii kaze ni nare\\n', '\\n', 'それぞれに幸せを目指し\\n', 'sorezore ni shiawase wo mezashi\\n', '傷ついてもそれでも手を伸ばすよ\\n', 'kizutsuite mo sore demo te wo nobasu yo\\n', '悲しみも強さに変わるなら\\n', 'kanashimi mo tsuyosa ni kawaru nara\\n', '荒れ狂う嵐も超えていけるはず\\n', 'arekuruu arashi mo koete ikeru hazu\\n', '信じるその旅の果てでまた会いたい\\n', 'shinjiru sono tabi no hate de mata aitai\\n', '\\n', '目覚めたまま見る夢 決して覚めはしない\\n', 'mezameta mama miru yume kesshite same wa shinai\\n', '水平線の彼方 その影に手を振るよ\\n', 'suihеisen no kanata sono kage ni te wo furu yo\\n', 'いつまでもあなたへ届くように歌うわ\\n', 'itsu madе mo anata e todoku you ni utau wa\\n', '大きく広げた帆が纏う青い風になれ\\n', 'ookiku hirogeta ho ga matou aoi kaze ni nare\\n', '\\n', 'ただひとつの夢 誰も奪えない\\n', 'tada hitotsu no yume dare mo ubaenai\\n', '私が消え去っても歌は響き続ける\\n', 'watashi ga kiesatte mo uta wa hibiki tsuzukeru\\n', 'どこまでもあなたへ届くように歌うわ\\n', 'doko made mo anata e todoku you ni utau wa\\n', '大海原を駆ける 新しい風になれ\\n', 'oounabara wo kakeru atarashii kaze ni nare']\n"
     ]
    }
   ],
   "source": [
    "# Lê o arquivo e retorna uma lista com todas as linhas.\n",
    "file = open('exemplo.txt', 'r', encoding='utf8')\n",
    "print(file.readlines())\n",
    "file.close()"
   ]
  },
  {
   "cell_type": "code",
   "execution_count": null,
   "metadata": {},
   "outputs": [],
   "source": [
    "# Lê o arquivo enquanto a linha tiver caracteres.\n",
    "file = open('exemplo.txt', 'r', encoding='utf8')\n",
    "while len(linha := file.readline()):\n",
    "    print(linha)\n",
    "file.close()"
   ]
  }
 ],
 "metadata": {
  "kernelspec": {
   "display_name": "Python 3",
   "language": "python",
   "name": "python3"
  },
  "language_info": {
   "codemirror_mode": {
    "name": "ipython",
    "version": 3
   },
   "file_extension": ".py",
   "mimetype": "text/x-python",
   "name": "python",
   "nbconvert_exporter": "python",
   "pygments_lexer": "ipython3",
   "version": "3.12.1"
  }
 },
 "nbformat": 4,
 "nbformat_minor": 2
}
