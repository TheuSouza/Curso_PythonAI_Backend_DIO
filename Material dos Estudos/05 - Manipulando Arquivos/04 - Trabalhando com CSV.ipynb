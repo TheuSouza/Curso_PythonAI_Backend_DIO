{
 "cells": [
  {
   "cell_type": "code",
   "execution_count": 14,
   "metadata": {},
   "outputs": [],
   "source": [
    "import csv"
   ]
  },
  {
   "cell_type": "code",
   "execution_count": 15,
   "metadata": {},
   "outputs": [],
   "source": [
    "# Escrevendo em CSV usando um Dicionario.\n",
    "try:\n",
    "    with open('clientes.csv', 'w', encoding='utf-8', newline='') as arquivo:\n",
    "        writer = csv.DictWriter(arquivo, fieldnames=['Nome', 'Email', 'Endereço'])\n",
    "        writer.writeheader()\n",
    "        writer.writerow({'Nome': 'John Doe', 'Email': 'john.doe@example.com', 'Endereço': '123 Main St'})\n",
    "        writer.writerow({'Nome': 'Jane Smith', 'Email': 'jane.smith@example.com', 'Endereço': '456 Elm St'})\n",
    "except Exception as exc:\n",
    "    print(f'Ocorreu um erro: {exc}')"
   ]
  },
  {
   "cell_type": "code",
   "execution_count": 16,
   "metadata": {},
   "outputs": [],
   "source": [
    "# Escrevendo em CSV usando uma lista com Dicionarios.\n",
    "try:\n",
    "    with open('clientes0.csv', 'w', encoding='utf-8', newline='') as arquivo:\n",
    "        writer = csv.DictWriter(arquivo, fieldnames=['Nome', 'Email', 'Endereço'])\n",
    "        writer.writeheader()\n",
    "        writer.writerows([{'Nome': 'John Doe', 'Email': 'john.doe@example.com', 'Endereço': '123 Main St'},\n",
    "                         {'Nome': 'Jane Smith', 'Email': 'jane.smith@example.com', 'Endereço': '456 Elm St'}])\n",
    "except Exception as exc:\n",
    "    print(f'Ocorreu um erro: {exc}')"
   ]
  },
  {
   "cell_type": "code",
   "execution_count": 17,
   "metadata": {},
   "outputs": [],
   "source": [
    "# Escrevendo em CSV usando writerows passando uma lista de tuplas/lista.\n",
    "try:\n",
    "    with open('clientes1.csv', 'w', encoding='utf-8', newline='') as arquivo:\n",
    "        arquivo_writer = csv.writer(arquivo)\n",
    "        arquivo_writer.writerow(['Nome', 'idade'])\n",
    "        arquivo_writer.writerows([('John Doe', 30), ('Jane Smith', 28)])\n",
    "except Exception as exc:\n",
    "    print(f'Ocorreu um erro: {exc}')"
   ]
  },
  {
   "cell_type": "code",
   "execution_count": 18,
   "metadata": {},
   "outputs": [],
   "source": [
    "# Escrevendo em CSV usando writerow passando lista por lista.\n",
    "try:\n",
    "    with open('clientes2.csv', 'w', encoding='utf-8', newline='') as arquivo:\n",
    "        arquivo_writer = csv.writer(arquivo)\n",
    "        arquivo_writer.writerow(['Nome', 'idade'])\n",
    "        arquivo_writer.writerow(['John Doe', 30])\n",
    "        arquivo_writer.writerow(['Jane Smith', 28])\n",
    "except Exception as exc:\n",
    "    print(f'Ocorreu um erro: {exc}')"
   ]
  },
  {
   "cell_type": "code",
   "execution_count": 19,
   "metadata": {},
   "outputs": [
    {
     "name": "stdout",
     "output_type": "stream",
     "text": [
      "['Nome', 'idade']\n",
      "['John Doe', '30']\n",
      "['Jane Smith', '28']\n"
     ]
    }
   ],
   "source": [
    "# Lendo um arquivo CSV.\n",
    "try:\n",
    "    with open('clientes2.csv', 'r', encoding='utf-8', newline='') as arquivo:\n",
    "        arquivo_reader = csv.reader(arquivo)\n",
    "        for row in arquivo_reader:\n",
    "            print(row)\n",
    "except Exception as exc:\n",
    "    print(f'Ocorreu um erro: {exc}')"
   ]
  },
  {
   "cell_type": "code",
   "execution_count": 29,
   "metadata": {},
   "outputs": [
    {
     "name": "stdout",
     "output_type": "stream",
     "text": [
      "Nome: John Doe Idade: 30\n",
      "John Doe 30\n",
      "Nome: Jane Smith Idade: 28\n",
      "Jane Smith 28\n"
     ]
    }
   ],
   "source": [
    "# Lendo arquivo CSV usando DictReader.\n",
    "\n",
    "try:\n",
    "    with open('clientes2.csv', 'r', encoding='utf-8', newline='') as arquivo:\n",
    "        arquivo_reader = csv.DictReader(arquivo)\n",
    "        for row in arquivo_reader:\n",
    "            print(f'Nome: {row['Nome']} Idade: { row['idade']}')\n",
    "            print(row['Nome'], row['idade'])\n",
    "except Exception as exc:\n",
    "    print(f'Ocorreu um erro: {exc}')"
   ]
  }
 ],
 "metadata": {
  "kernelspec": {
   "display_name": "Python 3",
   "language": "python",
   "name": "python3"
  },
  "language_info": {
   "codemirror_mode": {
    "name": "ipython",
    "version": 3
   },
   "file_extension": ".py",
   "mimetype": "text/x-python",
   "name": "python",
   "nbconvert_exporter": "python",
   "pygments_lexer": "ipython3",
   "version": "3.12.1"
  }
 },
 "nbformat": 4,
 "nbformat_minor": 2
}
