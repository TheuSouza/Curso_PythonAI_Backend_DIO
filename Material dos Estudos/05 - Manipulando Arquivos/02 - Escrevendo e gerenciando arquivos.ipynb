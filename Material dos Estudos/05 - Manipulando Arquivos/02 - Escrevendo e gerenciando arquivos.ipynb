{
 "cells": [
  {
   "cell_type": "code",
   "execution_count": 11,
   "metadata": {},
   "outputs": [],
   "source": [
    "file = open('Escrevendo.txt', 'w', encoding='utf8')\n",
    "file.write('Olá, mundo!\\n')\n",
    "file.writelines(['Vão todos tomar no cú\\n','Mundo do krl!\\n'])\n",
    "file.close()"
   ]
  },
  {
   "cell_type": "code",
   "execution_count": 3,
   "metadata": {},
   "outputs": [],
   "source": [
    "import os\n",
    "import shutil"
   ]
  },
  {
   "cell_type": "code",
   "execution_count": null,
   "metadata": {},
   "outputs": [],
   "source": [
    "# Criar um diretório.\n",
    "os.mkdir('diretorio_teste')\n",
    "\n",
    "# Renomear um diretório.\n",
    "os.rename('diretorio_teste', 'novo_diretorio_teste')\n",
    "\n",
    "# Renomear um arquivo.\n",
    "os.rename('Escrevendo.txt', 'Novo_nome_Escrevendo.txt')\n",
    "\n",
    "# Apagar um diretório.\n",
    "os.rmdir('novo_diretorio_teste')\n",
    "\n",
    "# Apagar um arquivo.\n",
    "os.remove('Novo_nome_Escrevendo.txt')\n",
    "\n",
    "# Mover um arquivo para o diretório.\n",
    "shutil.move('Escrevendo.txt', 'diretorio_teste/')"
   ]
  },
  {
   "cell_type": "code",
   "execution_count": 23,
   "metadata": {},
   "outputs": [],
   "source": [
    "# Criando arquivo na mesmo diretório onde o codigo está.\n",
    "file = open('./teste1.txt', 'w', encoding='utf8')\n",
    "file.close()\n",
    "\n",
    "# Criando arquivo em um diretório superior.\n",
    "file = open('../teste2.txt', 'w', encoding='utf8')\n",
    "file.close()"
   ]
  },
  {
   "cell_type": "code",
   "execution_count": 24,
   "metadata": {},
   "outputs": [],
   "source": [
    "# Renomear um arquivo no diretorio superior.\n",
    "os.rename('../teste2.txt', '../teste.txt')"
   ]
  },
  {
   "cell_type": "code",
   "execution_count": 25,
   "metadata": {},
   "outputs": [
    {
     "data": {
      "text/plain": [
       "'./teste.txt'"
      ]
     },
     "execution_count": 25,
     "metadata": {},
     "output_type": "execute_result"
    }
   ],
   "source": [
    "# Mover um arquivo para o diretório.\n",
    "shutil.move('../teste.txt',  './')"
   ]
  },
  {
   "cell_type": "code",
   "execution_count": 26,
   "metadata": {},
   "outputs": [
    {
     "data": {
      "text/plain": [
       "'../01 - Estruturas de Dados/teste.txt'"
      ]
     },
     "execution_count": 26,
     "metadata": {},
     "output_type": "execute_result"
    }
   ],
   "source": [
    "# Mover um arquivo para o diretório superior.\n",
    "shutil.move('teste.txt',  '../01 - Estruturas de Dados/')"
   ]
  },
  {
   "cell_type": "markdown",
   "metadata": {},
   "source": [
    "#### Boas praticas, with abre e fecha o arquivo."
   ]
  },
  {
   "cell_type": "code",
   "execution_count": null,
   "metadata": {},
   "outputs": [],
   "source": [
    "with open('arquivo.txt', 'r') as arquivo:\n",
    "    pass"
   ]
  }
 ],
 "metadata": {
  "kernelspec": {
   "display_name": "Python 3",
   "language": "python",
   "name": "python3"
  },
  "language_info": {
   "codemirror_mode": {
    "name": "ipython",
    "version": 3
   },
   "file_extension": ".py",
   "mimetype": "text/x-python",
   "name": "python",
   "nbconvert_exporter": "python",
   "pygments_lexer": "ipython3",
   "version": "3.12.1"
  }
 },
 "nbformat": 4,
 "nbformat_minor": 2
}
