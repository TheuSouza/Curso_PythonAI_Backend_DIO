{
 "cells": [
  {
   "cell_type": "markdown",
   "metadata": {},
   "source": [
    "___ENCAPSULAMENTO___"
   ]
  },
  {
   "cell_type": "code",
   "execution_count": 50,
   "metadata": {},
   "outputs": [],
   "source": [
    "class conta:\n",
    "    def __init__(self, saldo=0):\n",
    "        self._saldo = saldo\n",
    "    \n",
    "    def depositar(self, valor):\n",
    "        self._saldo += valor\n",
    "    \n",
    "    def sacar(self, valor):\n",
    "        self._saldo -= valor\n",
    "    \n",
    "    def mostrar_saldo(self):\n",
    "        return self._saldo"
   ]
  },
  {
   "cell_type": "code",
   "execution_count": 51,
   "metadata": {},
   "outputs": [
    {
     "name": "stdout",
     "output_type": "stream",
     "text": [
      "200\n",
      "300\n"
     ]
    }
   ],
   "source": [
    "c = conta(100)\n",
    "\n",
    "c._saldo += 100 # modo incorreto de acrescentar valor ao saldo.\n",
    "print(c._saldo) # modo incorreto de consultar saldo.\n",
    "\n",
    "c.depositar(100) # modo correto de acrescentar valor ao saldo.\n",
    "print(c.mostrar_saldo()) # modo correto de consultar saldo."
   ]
  },
  {
   "cell_type": "markdown",
   "metadata": {},
   "source": [
    "___PROPRIEDADES___"
   ]
  },
  {
   "cell_type": "code",
   "execution_count": 52,
   "metadata": {},
   "outputs": [],
   "source": [
    "class foo:\n",
    "    def __init__(self, x):\n",
    "        self._x = x\n",
    "    \n",
    "    @property\n",
    "    def x(self):\n",
    "        return self._x or 0\n",
    "    \n",
    "    @x.setter\n",
    "    def x(self, value):\n",
    "        self._x += value\n",
    "    \n",
    "    @x.deleter\n",
    "    def x(self):\n",
    "        self._x = 0"
   ]
  },
  {
   "cell_type": "code",
   "execution_count": 53,
   "metadata": {},
   "outputs": [
    {
     "name": "stdout",
     "output_type": "stream",
     "text": [
      "100\n",
      "200\n"
     ]
    }
   ],
   "source": [
    "com = foo(100)\n",
    "print(com.x) # possível devido o @property\n",
    "com.x = 100 # possível devido o @x.setter\n",
    "print(com.x)"
   ]
  },
  {
   "cell_type": "code",
   "execution_count": 55,
   "metadata": {},
   "outputs": [
    {
     "name": "stdout",
     "output_type": "stream",
     "text": [
      "0\n"
     ]
    }
   ],
   "source": [
    "del com.x\n",
    "print(com.x) # possível devido o @x.deleter"
   ]
  }
 ],
 "metadata": {
  "kernelspec": {
   "display_name": "Python 3",
   "language": "python",
   "name": "python3"
  },
  "language_info": {
   "codemirror_mode": {
    "name": "ipython",
    "version": 3
   },
   "file_extension": ".py",
   "mimetype": "text/x-python",
   "name": "python",
   "nbconvert_exporter": "python",
   "pygments_lexer": "ipython3",
   "version": "3.12.1"
  }
 },
 "nbformat": 4,
 "nbformat_minor": 2
}
