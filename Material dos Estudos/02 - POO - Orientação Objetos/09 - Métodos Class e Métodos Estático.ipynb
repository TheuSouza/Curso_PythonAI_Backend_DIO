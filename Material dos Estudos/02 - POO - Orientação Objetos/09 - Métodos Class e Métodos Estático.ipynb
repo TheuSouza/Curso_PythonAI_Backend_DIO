{
 "cells": [
  {
   "cell_type": "code",
   "execution_count": 20,
   "metadata": {},
   "outputs": [],
   "source": [
    "from datetime import datetime\n",
    "\n",
    "class Pessoa:\n",
    "    ano_atual = datetime.today().year\n",
    "    \n",
    "    def __init__(self, nome=None, idade=None):\n",
    "        self.nome = nome\n",
    "        self.idade = idade\n",
    "    \n",
    "    @classmethod\n",
    "    def criar_pessoa(cls, nome, ano_nascimento):\n",
    "        idade = cls.ano_atual - ano_nascimento\n",
    "        return cls(nome, idade)\n",
    "\n",
    "    @staticmethod\n",
    "    def maior_idade(idade):\n",
    "        return idade >= 18\n",
    "\n"
   ]
  },
  {
   "cell_type": "code",
   "execution_count": 21,
   "metadata": {},
   "outputs": [
    {
     "name": "stdout",
     "output_type": "stream",
     "text": [
      "Matheus 28\n"
     ]
    }
   ],
   "source": [
    "p = Pessoa.criar_pessoa('Matheus', 1996)\n",
    "print(p.nome, p.idade)"
   ]
  },
  {
   "cell_type": "code",
   "execution_count": 22,
   "metadata": {},
   "outputs": [
    {
     "name": "stdout",
     "output_type": "stream",
     "text": [
      "True\n",
      "False\n"
     ]
    }
   ],
   "source": [
    "print(Pessoa.maior_idade(19))\n",
    "print(Pessoa.maior_idade(10))"
   ]
  }
 ],
 "metadata": {
  "kernelspec": {
   "display_name": "Python 3",
   "language": "python",
   "name": "python3"
  },
  "language_info": {
   "codemirror_mode": {
    "name": "ipython",
    "version": 3
   },
   "file_extension": ".py",
   "mimetype": "text/x-python",
   "name": "python",
   "nbconvert_exporter": "python",
   "pygments_lexer": "ipython3",
   "version": "3.12.1"
  }
 },
 "nbformat": 4,
 "nbformat_minor": 2
}
