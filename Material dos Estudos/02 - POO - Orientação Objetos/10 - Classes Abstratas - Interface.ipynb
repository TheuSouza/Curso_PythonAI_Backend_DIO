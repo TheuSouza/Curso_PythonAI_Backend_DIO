{
 "cells": [
  {
   "cell_type": "code",
   "execution_count": 18,
   "metadata": {},
   "outputs": [],
   "source": [
    "# Abstract method obriga a implementação dos metodos da classe pai nas classe filho.\n",
    "from abc import ABC, abstractmethod\n",
    "\n",
    "class ControleRemoto(ABC):\n",
    "    @abstractmethod\n",
    "    def ligar(self):\n",
    "        pass\n",
    "\n",
    "    @abstractmethod\n",
    "    def desligar(self):\n",
    "        pass\n",
    "    \n",
    "    @property\n",
    "    @abstractmethod\n",
    "    def marca(self):\n",
    "        pass\n"
   ]
  },
  {
   "cell_type": "code",
   "execution_count": 19,
   "metadata": {},
   "outputs": [],
   "source": [
    "class ControleTV(ControleRemoto):\n",
    "    def ligar(self):\n",
    "        print('Ligando TV')\n",
    "    \n",
    "    def desligar(self):\n",
    "        print('Desligando TV')\n",
    "    \n",
    "    @property\n",
    "    def marca(self):\n",
    "        return 'Samsung'"
   ]
  },
  {
   "cell_type": "code",
   "execution_count": 20,
   "metadata": {},
   "outputs": [
    {
     "name": "stdout",
     "output_type": "stream",
     "text": [
      "Ligando TV\n",
      "Desligando TV\n",
      "Samsung\n"
     ]
    }
   ],
   "source": [
    "controle  = ControleTV()\n",
    "controle.ligar()\n",
    "controle.desligar()\n",
    "\n",
    "print(controle.marca)"
   ]
  }
 ],
 "metadata": {
  "kernelspec": {
   "display_name": "Python 3",
   "language": "python",
   "name": "python3"
  },
  "language_info": {
   "codemirror_mode": {
    "name": "ipython",
    "version": 3
   },
   "file_extension": ".py",
   "mimetype": "text/x-python",
   "name": "python",
   "nbconvert_exporter": "python",
   "pygments_lexer": "ipython3",
   "version": "3.12.1"
  }
 },
 "nbformat": 4,
 "nbformat_minor": 2
}
