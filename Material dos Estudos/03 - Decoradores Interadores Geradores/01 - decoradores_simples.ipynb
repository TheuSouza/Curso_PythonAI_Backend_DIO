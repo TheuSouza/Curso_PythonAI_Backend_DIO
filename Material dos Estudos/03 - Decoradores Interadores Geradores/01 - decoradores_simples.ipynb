{
 "cells": [
  {
   "cell_type": "code",
   "execution_count": 3,
   "metadata": {},
   "outputs": [
    {
     "name": "stdout",
     "output_type": "stream",
     "text": [
      "Antes da função\n",
      "Olá mundo!\n",
      "Depois da função\n"
     ]
    }
   ],
   "source": [
    "def meu_decorador(funcao):\n",
    "    def envelope():\n",
    "        print('Antes da função')\n",
    "        funcao()\n",
    "        print('Depois da função')\n",
    "    \n",
    "    return envelope\n",
    "\n",
    "def ola_mundo():\n",
    "    print('Olá mundo!')\n",
    "\n",
    "\n",
    "ola_mundo = meu_decorador(ola_mundo)\n",
    "ola_mundo()"
   ]
  },
  {
   "cell_type": "code",
   "execution_count": 4,
   "metadata": {},
   "outputs": [
    {
     "name": "stdout",
     "output_type": "stream",
     "text": [
      "Antes da função\n",
      "Olá mundo!\n",
      "Depois da função\n"
     ]
    }
   ],
   "source": [
    "def meu_decorador(funcao):\n",
    "    def envelope():\n",
    "        print('Antes da função')\n",
    "        funcao()\n",
    "        print('Depois da função')\n",
    "    \n",
    "    return envelope\n",
    "\n",
    "@meu_decorador\n",
    "def ola_mundo():\n",
    "    print('Olá mundo!')\n",
    "\n",
    "ola_mundo()"
   ]
  }
 ],
 "metadata": {
  "kernelspec": {
   "display_name": "Python 3",
   "language": "python",
   "name": "python3"
  },
  "language_info": {
   "codemirror_mode": {
    "name": "ipython",
    "version": 3
   },
   "file_extension": ".py",
   "mimetype": "text/x-python",
   "name": "python",
   "nbconvert_exporter": "python",
   "pygments_lexer": "ipython3",
   "version": "3.12.1"
  }
 },
 "nbformat": 4,
 "nbformat_minor": 2
}
