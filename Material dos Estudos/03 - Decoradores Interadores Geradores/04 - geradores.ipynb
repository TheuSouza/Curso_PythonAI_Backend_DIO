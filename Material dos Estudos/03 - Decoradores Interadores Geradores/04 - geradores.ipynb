{
 "cells": [
  {
   "cell_type": "code",
   "execution_count": null,
   "metadata": {},
   "outputs": [],
   "source": [
    "import requests\n",
    "\n",
    "def fetch_products(api_url, max_products=100):\n",
    "    page = 1\n",
    "    while page <= max_products:\n",
    "        response = requests.get(api_url, params={'page': page})\n",
    "        if response.status_code == 200:\n",
    "            products = response.json()\n",
    "            for product in products:\n",
    "                yield product\n",
    "            if 'next_page' not in products:\n",
    "                break\n",
    "            page += 1\n",
    "\n",
    "        else:\n",
    "            break\n",
    "\n",
    "\n",
    "api_url = 'https://SiteDeExemplo/products'\n",
    "\n",
    "for product in fetch_products(api_url):\n",
    "    print(product['title'])"
   ]
  },
  {
   "cell_type": "code",
   "execution_count": 3,
   "metadata": {},
   "outputs": [
    {
     "name": "stdout",
     "output_type": "stream",
     "text": [
      "2...4...6...8...10..."
     ]
    }
   ],
   "source": [
    "num = [1, 2, 3, 4, 5]\n",
    "\n",
    "def meu_gerador(numeros: list[int]):\n",
    "    for numero in numeros:\n",
    "        yield numero * 2\n",
    "\n",
    "for i in meu_gerador(num):\n",
    "    print(i, end='...')\n"
   ]
  }
 ],
 "metadata": {
  "kernelspec": {
   "display_name": "Python 3",
   "language": "python",
   "name": "python3"
  },
  "language_info": {
   "codemirror_mode": {
    "name": "ipython",
    "version": 3
   },
   "file_extension": ".py",
   "mimetype": "text/x-python",
   "name": "python",
   "nbconvert_exporter": "python",
   "pygments_lexer": "ipython3",
   "version": "3.12.1"
  }
 },
 "nbformat": 4,
 "nbformat_minor": 2
}
