{
 "cells": [
  {
   "cell_type": "code",
   "execution_count": 21,
   "metadata": {},
   "outputs": [
    {
     "name": "stdout",
     "output_type": "stream",
     "text": [
      "Estou aprendendo Python\n",
      "Estou aprendendo Python\n",
      "<function duplicar.<locals>.envelope at 0x000001A837B71E40>\n"
     ]
    }
   ],
   "source": [
    "def duplicar(funcao):\n",
    "    def envelope(*args, **kwargs):\n",
    "        funcao(*args, **kwargs)\n",
    "        funcao(*args, **kwargs)\n",
    "\n",
    "    return envelope\n",
    "\n",
    "@duplicar\n",
    "def aprendendo(tecnologia):\n",
    "    print(f'Estou aprendendo {tecnologia}')\n",
    "\n",
    "\n",
    "aprendendo('Python')\n",
    "print(aprendendo)"
   ]
  },
  {
   "cell_type": "code",
   "execution_count": 20,
   "metadata": {},
   "outputs": [
    {
     "name": "stdout",
     "output_type": "stream",
     "text": [
      "Estou aprendendo Python\n",
      "Estou aprendendo Python\n",
      "PYTHON\n",
      "<function aprendendo at 0x000001A837BB4540>\n"
     ]
    }
   ],
   "source": [
    "import functools\n",
    "\n",
    "def duplicar(funcao):\n",
    "    @functools.wraps(funcao) # Manter o nome da funcao.\n",
    "    def envelope(*args, **kwargs):\n",
    "        funcao(*args, **kwargs)\n",
    "        return funcao(*args, **kwargs)\n",
    "\n",
    "    return envelope\n",
    "\n",
    "@duplicar\n",
    "def aprendendo(tecnologia):\n",
    "    print(f'Estou aprendendo {tecnologia}')\n",
    "    return tecnologia.upper()\n",
    "\n",
    "\n",
    "linguagem = aprendendo('Python')\n",
    "print(linguagem)\n",
    "print(aprendendo)"
   ]
  },
  {
   "cell_type": "code",
   "execution_count": null,
   "metadata": {},
   "outputs": [],
   "source": []
  }
 ],
 "metadata": {
  "kernelspec": {
   "display_name": "Python 3",
   "language": "python",
   "name": "python3"
  },
  "language_info": {
   "codemirror_mode": {
    "name": "ipython",
    "version": 3
   },
   "file_extension": ".py",
   "mimetype": "text/x-python",
   "name": "python",
   "nbconvert_exporter": "python",
   "pygments_lexer": "ipython3",
   "version": "3.12.1"
  }
 },
 "nbformat": 4,
 "nbformat_minor": 2
}
