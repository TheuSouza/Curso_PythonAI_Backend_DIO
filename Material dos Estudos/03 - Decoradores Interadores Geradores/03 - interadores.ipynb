{
 "cells": [
  {
   "cell_type": "code",
   "execution_count": 3,
   "metadata": {},
   "outputs": [],
   "source": [
    "class FileIterador:\n",
    "    def __init__(self, arquivo):\n",
    "        self.arquivo = open(arquivo)\n",
    "    \n",
    "    def __iter__(self):\n",
    "        return self\n",
    "    \n",
    "    def __next__(self):\n",
    "        line = self.arquivo.readline()\n",
    "        if line != '':\n",
    "            return line\n",
    "        else:\n",
    "            self.arquivo.close()\n",
    "            raise StopIteration()"
   ]
  },
  {
   "cell_type": "code",
   "execution_count": null,
   "metadata": {},
   "outputs": [],
   "source": [
    "for line in FileIterador('arquivo.txt'):\n",
    "    print(line)"
   ]
  },
  {
   "cell_type": "code",
   "execution_count": 9,
   "metadata": {},
   "outputs": [
    {
     "name": "stdout",
     "output_type": "stream",
     "text": [
      "2...4...6...8...10...12...14...16...18..."
     ]
    }
   ],
   "source": [
    "num = [1, 2, 3, 4, 5, 6, 7, 8, 9]\n",
    "\n",
    "class MeuInterador:\n",
    "    def __init__(self, numeros: list[int]):\n",
    "        self.numeros = numeros\n",
    "        self.indice = 0\n",
    "    \n",
    "    def __iter__(self):\n",
    "        return self\n",
    "    \n",
    "    def __next__(self):\n",
    "        if self.indice < len(self.numeros):\n",
    "            valor = self.numeros[self.indice]\n",
    "            self.indice += 1\n",
    "            return valor * 2\n",
    "        else:\n",
    "            raise StopIteration()\n",
    "\n",
    "for numero in MeuInterador(num):\n",
    "    print(numero, end='...')\n",
    "\n",
    "# Maneira que teria feito o interador, usando o IF e LEN da lista de numeros."
   ]
  },
  {
   "cell_type": "code",
   "execution_count": 10,
   "metadata": {},
   "outputs": [
    {
     "name": "stdout",
     "output_type": "stream",
     "text": [
      "2...4...6...8...10...12...14...16...18..."
     ]
    }
   ],
   "source": [
    "num = [1, 2, 3, 4, 5, 6, 7, 8, 9]\n",
    "\n",
    "class MeuInterador02:\n",
    "    def __init__(self, numeros: list[int]):\n",
    "        self.numeros = numeros\n",
    "        self.indice = 0\n",
    "    \n",
    "    def __iter__(self):\n",
    "        return self\n",
    "    \n",
    "    def __next__(self):\n",
    "        try:\n",
    "            numero = self.numeros[self.indice]\n",
    "            self.indice += 1\n",
    "            return numero * 2\n",
    "        except IndexError:\n",
    "            raise StopIteration()\n",
    "\n",
    "for numero in MeuInterador02(num):\n",
    "    print(numero, end='...')\n",
    "\n",
    "# Maneira que foi feito no curso, usando o Try e Except."
   ]
  }
 ],
 "metadata": {
  "kernelspec": {
   "display_name": "Python 3",
   "language": "python",
   "name": "python3"
  },
  "language_info": {
   "codemirror_mode": {
    "name": "ipython",
    "version": 3
   },
   "file_extension": ".py",
   "mimetype": "text/x-python",
   "name": "python",
   "nbconvert_exporter": "python",
   "pygments_lexer": "ipython3",
   "version": "3.12.1"
  }
 },
 "nbformat": 4,
 "nbformat_minor": 2
}
