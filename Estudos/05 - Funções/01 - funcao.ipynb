{
 "cells": [
  {
   "cell_type": "code",
   "execution_count": 2,
   "metadata": {},
   "outputs": [
    {
     "name": "stdout",
     "output_type": "stream",
     "text": [
      "Hello World\n"
     ]
    }
   ],
   "source": [
    "def exibir_msg():\n",
    "    print(\"Hello World\")\n",
    "\n",
    "exibir_msg()"
   ]
  },
  {
   "cell_type": "code",
   "execution_count": 6,
   "metadata": {},
   "outputs": [
    {
     "name": "stdout",
     "output_type": "stream",
     "text": [
      "Seja bem vindo! Desconhecido.\n"
     ]
    }
   ],
   "source": [
    "def exibir_msg2(nome='Desconhecido'):\n",
    "    print(f'Seja bem vindo! {nome}.')\n",
    "\n",
    "exibir_msg2()"
   ]
  },
  {
   "cell_type": "code",
   "execution_count": 7,
   "metadata": {},
   "outputs": [
    {
     "name": "stdout",
     "output_type": "stream",
     "text": [
      "Seja bem vindo! Matheus.\n"
     ]
    }
   ],
   "source": [
    "exibir_msg2('Matheus')"
   ]
  },
  {
   "cell_type": "code",
   "execution_count": 8,
   "metadata": {},
   "outputs": [
    {
     "data": {
      "text/plain": [
       "16"
      ]
     },
     "execution_count": 8,
     "metadata": {},
     "output_type": "execute_result"
    }
   ],
   "source": [
    "def somando_numeros(numeros):\n",
    "    return sum(numeros)\n",
    "\n",
    "somando_numeros([1, 2, 5, 8])"
   ]
  },
  {
   "cell_type": "code",
   "execution_count": 13,
   "metadata": {},
   "outputs": [
    {
     "name": "stdout",
     "output_type": "stream",
     "text": [
      "9\n",
      "11\n"
     ]
    }
   ],
   "source": [
    "def retorna_antecessor_e_sucessor(numero):\n",
    "    antecessor = numero - 1\n",
    "    sucessor = numero + 1\n",
    "\n",
    "    return antecessor, sucessor\n",
    "\n",
    "resultadoA, resultadoB = retorna_antecessor_e_sucessor(10)\n",
    "\n",
    "print(resultadoA)\n",
    "print(resultadoB)"
   ]
  },
  {
   "cell_type": "code",
   "execution_count": 21,
   "metadata": {},
   "outputs": [],
   "source": [
    "def salvar_carro(marca, modelo, ano, placa):\n",
    "    print(f'Carro inserido com sucesso! -> {marca} * {modelo} * {ano} * {placa}')"
   ]
  },
  {
   "cell_type": "code",
   "execution_count": 22,
   "metadata": {},
   "outputs": [
    {
     "name": "stdout",
     "output_type": "stream",
     "text": [
      "Carro inserido com sucesso! -> Fiat * Palio * 1999 * ABC-1234\n"
     ]
    }
   ],
   "source": [
    "salvar_carro('Fiat', 'Palio', 1999, 'ABC-1234')"
   ]
  },
  {
   "cell_type": "code",
   "execution_count": 23,
   "metadata": {},
   "outputs": [
    {
     "name": "stdout",
     "output_type": "stream",
     "text": [
      "Carro inserido com sucesso! -> Vokswagen * UP! * 2016 * FXC-2238\n"
     ]
    }
   ],
   "source": [
    "salvar_carro(marca='Vokswagen', modelo='UP!', ano=2016, placa='FXC-2238')"
   ]
  },
  {
   "cell_type": "code",
   "execution_count": 25,
   "metadata": {},
   "outputs": [
    {
     "name": "stdout",
     "output_type": "stream",
     "text": [
      "Carro inserido com sucesso! -> Chevrolet * Chevette * 1987 * CDF-4321\n"
     ]
    }
   ],
   "source": [
    "salvar_carro(**{'marca': 'Chevrolet', 'modelo': 'Chevette', 'ano': 1987, 'placa': 'CDF-4321'})"
   ]
  },
  {
   "cell_type": "code",
   "execution_count": 27,
   "metadata": {},
   "outputs": [
    {
     "name": "stdout",
     "output_type": "stream",
     "text": [
      "Sábado, 27 de Abril de 2024\n",
      "\n",
      "Zen de Python\n",
      "Beautiful is better than ugly. -> Bonito é melhor que feio.\n",
      "Explicit is better than implicit. -> Explícito é melhor que implícito.\n",
      "Simple is better than complex. -> Simples é melhor que complexo.\n",
      "Complex is better than complicated. -> Complexo é melhor que complicado.\n",
      "Flat is better than nested. -> Linear é melhor do que aninhado.\n",
      "Sparse is better than dense. -> Esparso é melhor que denso.\n",
      "Readability counts. -> Legibilidade conta.\n",
      "Special cases aren t special enough to break the rules. -> Casos especiais não são especiais o bastante para quebrar as regras.\n",
      "Although practicality beats purity. -> Ainda que praticidade vença a pureza.\n",
      "Errors should never pass silently. -> Erros nunca devem passar silenciosamente.\n",
      "Unless explicitly silenced. -> A menos que sejam explicitamente silenciados.\n",
      "In the face of ambiguity, refuse the temptation to guess. -> Diante da ambiguidade, recuse a tentação de adivinhar.\n",
      "There should be one—and preferably only one—obvious way to do it. -> Dever haver um — e preferencialmente apenas um — modo óbvio para fazer algo.\n",
      "Although that way may not be obvious at first unless you re Dutch. -> Embora esse modo possa não ser óbvio a princípio a menos que você seja holandês.\n",
      "Now is better than never. -> Agora é melhor que nunca.\n",
      "Although never is often better than *right* now. -> Apesar de que nunca normalmente é melhor do que *exatamente* agora.\n",
      "If the implementation is hard to explain, it s a bad idea. -> Se a implementação é difícil de explicar, é uma má ideia.\n",
      "If the implementation is easy to explain, it may be a good idea. -> Se a implementação é fácil de explicar, pode ser uma boa ideia.\n",
      "Namespaces are one honking great idea—let s do more of those! -> Namespaces são uma grande ideia — vamos ter mais dessas!\n",
      "\n",
      "Autor:Tim Peters\n",
      "Ano:1999\n"
     ]
    }
   ],
   "source": [
    "def exibir_poema_python(data_extenso, *args, **kwargs):\n",
    "    texto = '\\n'.join(args)\n",
    "    meta_dados = '\\n'.join([f'{chave.title()}:{valor}' for chave, valor in kwargs.items()])\n",
    "    mensagem = f'{data_extenso}\\n\\n{texto}\\n\\n{meta_dados}'\n",
    "    print(mensagem)\n",
    "\n",
    "# *args é tudo que se enquadrar em uma tupla... valores separados por virgulas...\n",
    "# **kwargs é tudo que se enquadrar em um Dict... chave = valor...\n",
    "\n",
    "exibir_poema_python(\n",
    "    'Sábado, 27 de Abril de 2024',\n",
    "    'Zen de Python',\n",
    "    'Beautiful is better than ugly. -> Bonito é melhor que feio.',\n",
    "    'Explicit is better than implicit. -> Explícito é melhor que implícito.',\n",
    "    'Simple is better than complex. -> Simples é melhor que complexo.',\n",
    "    'Complex is better than complicated. -> Complexo é melhor que complicado.',\n",
    "    'Flat is better than nested. -> Linear é melhor do que aninhado.',\n",
    "    'Sparse is better than dense. -> Esparso é melhor que denso.',\n",
    "    'Readability counts. -> Legibilidade conta.',\n",
    "    'Special cases aren t special enough to break the rules. -> Casos especiais não são especiais o bastante para quebrar as regras.',\n",
    "    'Although practicality beats purity. -> Ainda que praticidade vença a pureza.',\n",
    "    'Errors should never pass silently. -> Erros nunca devem passar silenciosamente.',\n",
    "    'Unless explicitly silenced. -> A menos que sejam explicitamente silenciados.',\n",
    "    'In the face of ambiguity, refuse the temptation to guess. -> Diante da ambiguidade, recuse a tentação de adivinhar.',\n",
    "    'There should be one—and preferably only one—obvious way to do it. -> Dever haver um — e preferencialmente apenas um — modo óbvio para fazer algo.',\n",
    "    'Although that way may not be obvious at first unless you re Dutch. -> Embora esse modo possa não ser óbvio a princípio a menos que você seja holandês.',\n",
    "    'Now is better than never. -> Agora é melhor que nunca.',\n",
    "    'Although never is often better than *right* now. -> Apesar de que nunca normalmente é melhor do que *exatamente* agora.',\n",
    "    'If the implementation is hard to explain, it s a bad idea. -> Se a implementação é difícil de explicar, é uma má ideia.',\n",
    "    'If the implementation is easy to explain, it may be a good idea. -> Se a implementação é fácil de explicar, pode ser uma boa ideia.',\n",
    "    'Namespaces are one honking great idea—let s do more of those! -> Namespaces são uma grande ideia — vamos ter mais dessas!',\n",
    "    autor = 'Tim Peters',\n",
    "    Ano = 1999,\n",
    ")"
   ]
  }
 ],
 "metadata": {
  "kernelspec": {
   "display_name": "Python 3",
   "language": "python",
   "name": "python3"
  },
  "language_info": {
   "codemirror_mode": {
    "name": "ipython",
    "version": 3
   },
   "file_extension": ".py",
   "mimetype": "text/x-python",
   "name": "python",
   "nbconvert_exporter": "python",
   "pygments_lexer": "ipython3",
   "version": "3.12.1"
  }
 },
 "nbformat": 4,
 "nbformat_minor": 2
}
