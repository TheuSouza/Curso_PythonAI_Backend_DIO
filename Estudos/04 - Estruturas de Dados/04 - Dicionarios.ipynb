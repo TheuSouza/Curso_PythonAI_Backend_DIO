{
 "cells": [
  {
   "cell_type": "code",
   "execution_count": 49,
   "metadata": {},
   "outputs": [
    {
     "data": {
      "text/plain": [
       "{'nome': 'Matheus',\n",
       " 'idade': 28,\n",
       " 'sexo': 'Masculino',\n",
       " 'profissao': 'Analista de dados'}"
      ]
     },
     "execution_count": 49,
     "metadata": {},
     "output_type": "execute_result"
    }
   ],
   "source": [
    "pessoa = dict()\n",
    "\n",
    "pessoa = {\n",
    "    'nome': 'Matheus', \n",
    "    'idade': 28,\n",
    "    'sexo': 'Masculino',\n",
    "    'profissao': 'Analista de dados',            \n",
    "}\n",
    "\n",
    "pessoa"
   ]
  },
  {
   "cell_type": "code",
   "execution_count": 50,
   "metadata": {},
   "outputs": [
    {
     "data": {
      "text/plain": [
       "{'nome': 'Matheus',\n",
       " 'idade': 28,\n",
       " 'sexo': 'Masculino',\n",
       " 'profissao': 'Analista de dados',\n",
       " 'telefone': 941006505}"
      ]
     },
     "execution_count": 50,
     "metadata": {},
     "output_type": "execute_result"
    }
   ],
   "source": [
    "pessoa['telefone'] = 941006505\n",
    "\n",
    "pessoa"
   ]
  },
  {
   "cell_type": "code",
   "execution_count": 51,
   "metadata": {},
   "outputs": [
    {
     "data": {
      "text/plain": [
       "'3333-7766'"
      ]
     },
     "execution_count": 51,
     "metadata": {},
     "output_type": "execute_result"
    }
   ],
   "source": [
    "contatos = {\n",
    "    'guilherme@gmail.com': {'nome': 'guilherme', 'telefone': '3333-2221'},\n",
    "    'giovanna@gmail.com': {'nome': 'giovanna', 'telefone': '3443-2121'},\n",
    "    'chappie@gmail.com': {'nome': 'chappie', 'telefone': '3344-9871'},\n",
    "    'melaine@gmail.com': {'nome': 'melaine', 'telefone': '3333-7766'}\n",
    "    }\n",
    "\n",
    "contatos['melaine@gmail.com']['telefone']"
   ]
  },
  {
   "cell_type": "code",
   "execution_count": 52,
   "metadata": {},
   "outputs": [],
   "source": [
    "# Métodos\n",
    "copia = contatos.copy()\n",
    "contatos.clear()"
   ]
  },
  {
   "cell_type": "code",
   "execution_count": 53,
   "metadata": {},
   "outputs": [
    {
     "data": {
      "text/plain": [
       "{'nome': None,\n",
       " 'idade': None,\n",
       " 'peso': None,\n",
       " 'sexo': None,\n",
       " 'e-mail': None,\n",
       " 'telefone': None}"
      ]
     },
     "execution_count": 53,
     "metadata": {},
     "output_type": "execute_result"
    }
   ],
   "source": [
    "dados = dict.fromkeys(['nome', 'idade', 'peso', 'sexo', 'e-mail', 'telefone'])\n",
    "dados"
   ]
  },
  {
   "cell_type": "code",
   "execution_count": 54,
   "metadata": {},
   "outputs": [
    {
     "data": {
      "text/plain": [
       "{'nome': 'vazio', 'e-mail': 'vazio', 'telefone': 'vazio'}"
      ]
     },
     "execution_count": 54,
     "metadata": {},
     "output_type": "execute_result"
    }
   ],
   "source": [
    "info = dict.fromkeys(['nome', 'e-mail', 'telefone'], 'vazio') # Criar um Dict com as Keys sem valores.\n",
    "info"
   ]
  },
  {
   "cell_type": "code",
   "execution_count": 55,
   "metadata": {},
   "outputs": [
    {
     "name": "stdout",
     "output_type": "stream",
     "text": [
      "{'nome': 'guilherme', 'telefone': '3333-2221'}\n"
     ]
    }
   ],
   "source": [
    "print(copia.get('guilherme@gmail.com')) # Consultar se a key exite no dict."
   ]
  },
  {
   "cell_type": "code",
   "execution_count": 56,
   "metadata": {},
   "outputs": [
    {
     "name": "stdout",
     "output_type": "stream",
     "text": [
      "{'personalizado'}\n"
     ]
    }
   ],
   "source": [
    "print(contatos.get('guilherme@gmail.com', {'personalizado'})) # Consultar se a key exite no dict e retornar um valor personalizado."
   ]
  },
  {
   "cell_type": "code",
   "execution_count": 57,
   "metadata": {},
   "outputs": [
    {
     "data": {
      "text/plain": [
       "dict_items([('guilherme@gmail.com', {'nome': 'guilherme', 'telefone': '3333-2221'}), ('giovanna@gmail.com', {'nome': 'giovanna', 'telefone': '3443-2121'}), ('chappie@gmail.com', {'nome': 'chappie', 'telefone': '3344-9871'}), ('melaine@gmail.com', {'nome': 'melaine', 'telefone': '3333-7766'})])"
      ]
     },
     "execution_count": 57,
     "metadata": {},
     "output_type": "execute_result"
    }
   ],
   "source": [
    "copia.items() # retorna uma lista com tuplas com os valores do Dict."
   ]
  },
  {
   "cell_type": "code",
   "execution_count": 58,
   "metadata": {},
   "outputs": [
    {
     "data": {
      "text/plain": [
       "dict_keys(['guilherme@gmail.com', 'giovanna@gmail.com', 'chappie@gmail.com', 'melaine@gmail.com'])"
      ]
     },
     "execution_count": 58,
     "metadata": {},
     "output_type": "execute_result"
    }
   ],
   "source": [
    "copia.keys() # Retorna uma lista com a Keys do Dict."
   ]
  },
  {
   "cell_type": "code",
   "execution_count": 59,
   "metadata": {},
   "outputs": [
    {
     "data": {
      "text/plain": [
       "dict_values([{'nome': 'guilherme', 'telefone': '3333-2221'}, {'nome': 'giovanna', 'telefone': '3443-2121'}, {'nome': 'chappie', 'telefone': '3344-9871'}, {'nome': 'melaine', 'telefone': '3333-7766'}])"
      ]
     },
     "execution_count": 59,
     "metadata": {},
     "output_type": "execute_result"
    }
   ],
   "source": [
    "copia.values() # Retorna uma lista com os valores do Dict."
   ]
  },
  {
   "cell_type": "code",
   "execution_count": 60,
   "metadata": {},
   "outputs": [
    {
     "data": {
      "text/plain": [
       "dict_items([('nome', 'chappie'), ('telefone', '3344-9871')])"
      ]
     },
     "execution_count": 60,
     "metadata": {},
     "output_type": "execute_result"
    }
   ],
   "source": [
    "copia['chappie@gmail.com'].items()"
   ]
  },
  {
   "cell_type": "code",
   "execution_count": 61,
   "metadata": {},
   "outputs": [
    {
     "data": {
      "text/plain": [
       "dict_values(['chappie', '3344-9871'])"
      ]
     },
     "execution_count": 61,
     "metadata": {},
     "output_type": "execute_result"
    }
   ],
   "source": [
    "copia['chappie@gmail.com'].values()"
   ]
  },
  {
   "cell_type": "code",
   "execution_count": 62,
   "metadata": {},
   "outputs": [
    {
     "data": {
      "text/plain": [
       "dict_keys(['nome', 'telefone'])"
      ]
     },
     "execution_count": 62,
     "metadata": {},
     "output_type": "execute_result"
    }
   ],
   "source": [
    "copia['chappie@gmail.com'].keys()"
   ]
  },
  {
   "cell_type": "code",
   "execution_count": 63,
   "metadata": {},
   "outputs": [
    {
     "data": {
      "text/plain": [
       "'chave não encontrada'"
      ]
     },
     "execution_count": 63,
     "metadata": {},
     "output_type": "execute_result"
    }
   ],
   "source": [
    "contatos.pop('chappie@gmail.com', 'chave não encontrada') # Exluir informando a chave do dict, passando a msg de retorno caso a chave não seja encontrada."
   ]
  },
  {
   "cell_type": "code",
   "execution_count": 64,
   "metadata": {},
   "outputs": [
    {
     "ename": "KeyError",
     "evalue": "'popitem(): dictionary is empty'",
     "output_type": "error",
     "traceback": [
      "\u001b[1;31m---------------------------------------------------------------------------\u001b[0m",
      "\u001b[1;31mKeyError\u001b[0m                                  Traceback (most recent call last)",
      "Cell \u001b[1;32mIn[64], line 1\u001b[0m\n\u001b[1;32m----> 1\u001b[0m \u001b[43mcontatos\u001b[49m\u001b[38;5;241;43m.\u001b[39;49m\u001b[43mpopitem\u001b[49m\u001b[43m(\u001b[49m\u001b[43m)\u001b[49m \u001b[38;5;66;03m# Exlui o primeira chave e valor. se o dict estiver vazio, retorna msg de erro.\u001b[39;00m\n",
      "\u001b[1;31mKeyError\u001b[0m: 'popitem(): dictionary is empty'"
     ]
    }
   ],
   "source": [
    "contatos.popitem() # Exlui o primeira chave e valor. se o dict estiver vazio, retorna msg de erro."
   ]
  },
  {
   "cell_type": "code",
   "execution_count": 69,
   "metadata": {},
   "outputs": [
    {
     "data": {
      "text/plain": [
       "{'nome': 'Aurora',\n",
       " 'idade': None,\n",
       " 'peso': None,\n",
       " 'sexo': None,\n",
       " 'e-mail': None,\n",
       " 'telefone': None,\n",
       " 'cidade': 'itapevi'}"
      ]
     },
     "execution_count": 69,
     "metadata": {},
     "output_type": "execute_result"
    }
   ],
   "source": [
    "dados['nome'] = 'Aurora'\n",
    "dados.setdefault('cidade', 'itapevi') # Adiciona chave e valor caso a chave não exista.\n",
    "dados"
   ]
  },
  {
   "cell_type": "code",
   "execution_count": 70,
   "metadata": {},
   "outputs": [],
   "source": [
    "contatos.update({'chave':'valores'}) # Atualizado a chave com os novos valores informado"
   ]
  },
  {
   "cell_type": "code",
   "execution_count": 74,
   "metadata": {},
   "outputs": [
    {
     "data": {
      "text/plain": [
       "True"
      ]
     },
     "execution_count": 74,
     "metadata": {},
     "output_type": "execute_result"
    }
   ],
   "source": [
    "# Método IN\n",
    "\n",
    "# verifica se a str 'Aurora' está no dict na chave nome.\n",
    "resultado01 = 'Aurora' in dados['nome']\n",
    "resultado01"
   ]
  },
  {
   "cell_type": "code",
   "execution_count": 75,
   "metadata": {},
   "outputs": [
    {
     "data": {
      "text/plain": [
       "True"
      ]
     },
     "execution_count": 75,
     "metadata": {},
     "output_type": "execute_result"
    }
   ],
   "source": [
    "# verifica se a chave 'nome' está no dict dados.\n",
    "resultado02 = 'nome' in dados\n",
    "resultado02"
   ]
  },
  {
   "cell_type": "code",
   "execution_count": 76,
   "metadata": {},
   "outputs": [
    {
     "data": {
      "text/plain": [
       "{'nome': 'Aurora',\n",
       " 'idade': None,\n",
       " 'peso': None,\n",
       " 'sexo': None,\n",
       " 'e-mail': None,\n",
       " 'telefone': None}"
      ]
     },
     "execution_count": 76,
     "metadata": {},
     "output_type": "execute_result"
    }
   ],
   "source": [
    "# deleta valores do dict.\n",
    "del dados['cidade']\n",
    "dados"
   ]
  }
 ],
 "metadata": {
  "kernelspec": {
   "display_name": "Python 3",
   "language": "python",
   "name": "python3"
  },
  "language_info": {
   "codemirror_mode": {
    "name": "ipython",
    "version": 3
   },
   "file_extension": ".py",
   "mimetype": "text/x-python",
   "name": "python",
   "nbconvert_exporter": "python",
   "pygments_lexer": "ipython3",
   "version": "3.12.1"
  }
 },
 "nbformat": 4,
 "nbformat_minor": 2
}
