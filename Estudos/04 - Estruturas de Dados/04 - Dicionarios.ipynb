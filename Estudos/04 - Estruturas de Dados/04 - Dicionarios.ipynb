{
 "cells": [
  {
   "cell_type": "code",
   "execution_count": 8,
   "metadata": {},
   "outputs": [
    {
     "data": {
      "text/plain": [
       "{'nome': 'Matheus',\n",
       " 'idade': 28,\n",
       " 'sexo': 'Masculino',\n",
       " 'profissao': 'Analista de dados'}"
      ]
     },
     "execution_count": 8,
     "metadata": {},
     "output_type": "execute_result"
    }
   ],
   "source": [
    "pessoa = dict()\n",
    "\n",
    "pessoa = {\n",
    "    'nome': 'Matheus', \n",
    "    'idade': 28,\n",
    "    'sexo': 'Masculino',\n",
    "    'profissao': 'Analista de dados',            \n",
    "}\n",
    "\n",
    "pessoa"
   ]
  },
  {
   "cell_type": "code",
   "execution_count": 9,
   "metadata": {},
   "outputs": [
    {
     "data": {
      "text/plain": [
       "{'nome': 'Matheus',\n",
       " 'idade': 28,\n",
       " 'sexo': 'Masculino',\n",
       " 'profissao': 'Analista de dados',\n",
       " 'telefone': 941006505}"
      ]
     },
     "execution_count": 9,
     "metadata": {},
     "output_type": "execute_result"
    }
   ],
   "source": [
    "pessoa['telefone'] = 941006505\n",
    "\n",
    "pessoa"
   ]
  },
  {
   "cell_type": "code",
   "execution_count": 10,
   "metadata": {},
   "outputs": [
    {
     "data": {
      "text/plain": [
       "'3333-7766'"
      ]
     },
     "execution_count": 10,
     "metadata": {},
     "output_type": "execute_result"
    }
   ],
   "source": [
    "contatos = {\n",
    "    'guilherme@gmail.com': {'nome': 'guilherme', 'telefone': '3333-2221'},\n",
    "    'giovanna@gmail.com': {'nome': 'giovanna', 'telefone': '3443-2121'},\n",
    "    'chappie@gmail.com': {'nome': 'chappie', 'telefone': '3344-9871'},\n",
    "    'melaine@gmail.com': {'nome': 'melaine', 'telefone': '3333-7766'}\n",
    "    }\n",
    "\n",
    "contatos['melaine@gmail.com']['telefone']"
   ]
  },
  {
   "cell_type": "code",
   "execution_count": 11,
   "metadata": {},
   "outputs": [],
   "source": [
    "# Métodos\n",
    "copia = contatos.copy()\n",
    "contatos.clear()"
   ]
  },
  {
   "cell_type": "code",
   "execution_count": 12,
   "metadata": {},
   "outputs": [
    {
     "data": {
      "text/plain": [
       "{'nome': None,\n",
       " 'idade': None,\n",
       " 'peso': None,\n",
       " 'sexo': None,\n",
       " 'e-mail': None,\n",
       " 'telefone': None}"
      ]
     },
     "execution_count": 12,
     "metadata": {},
     "output_type": "execute_result"
    }
   ],
   "source": [
    "dados = dict.fromkeys(['nome', 'idade', 'peso', 'sexo', 'e-mail', 'telefone'])\n",
    "dados"
   ]
  },
  {
   "cell_type": "code",
   "execution_count": 13,
   "metadata": {},
   "outputs": [
    {
     "data": {
      "text/plain": [
       "{'nome': 'vazio', 'e-mail': 'vazio', 'telefone': 'vazio'}"
      ]
     },
     "execution_count": 13,
     "metadata": {},
     "output_type": "execute_result"
    }
   ],
   "source": [
    "info = dict.fromkeys(['nome', 'e-mail', 'telefone'], 'vazio') # Criar um Dict com as Keys sem valores.\n",
    "info"
   ]
  },
  {
   "cell_type": "code",
   "execution_count": 21,
   "metadata": {},
   "outputs": [
    {
     "name": "stdout",
     "output_type": "stream",
     "text": [
      "{'nome': 'guilherme', 'telefone': '3333-2221'}\n"
     ]
    }
   ],
   "source": [
    "print(copia.get('guilherme@gmail.com')) # Consultar se a key exite no dict."
   ]
  },
  {
   "cell_type": "code",
   "execution_count": 27,
   "metadata": {},
   "outputs": [
    {
     "name": "stdout",
     "output_type": "stream",
     "text": [
      "{'personalizado'}\n"
     ]
    }
   ],
   "source": [
    "print(contatos.get('guilherme@gmail.com', {'personalizado'})) # Consultar se a key exite no dict e retornar um valor personalizado."
   ]
  },
  {
   "cell_type": "code",
   "execution_count": 28,
   "metadata": {},
   "outputs": [
    {
     "data": {
      "text/plain": [
       "dict_items([('guilherme@gmail.com', {'nome': 'guilherme', 'telefone': '3333-2221'}), ('giovanna@gmail.com', {'nome': 'giovanna', 'telefone': '3443-2121'}), ('chappie@gmail.com', {'nome': 'chappie', 'telefone': '3344-9871'}), ('melaine@gmail.com', {'nome': 'melaine', 'telefone': '3333-7766'})])"
      ]
     },
     "execution_count": 28,
     "metadata": {},
     "output_type": "execute_result"
    }
   ],
   "source": [
    "copia.items() # retorna uma lista com tuplas com os valores do Dict."
   ]
  },
  {
   "cell_type": "code",
   "execution_count": 29,
   "metadata": {},
   "outputs": [
    {
     "data": {
      "text/plain": [
       "dict_keys(['guilherme@gmail.com', 'giovanna@gmail.com', 'chappie@gmail.com', 'melaine@gmail.com'])"
      ]
     },
     "execution_count": 29,
     "metadata": {},
     "output_type": "execute_result"
    }
   ],
   "source": [
    "copia.keys() # Retorna uma lista com a Keys do Dict."
   ]
  },
  {
   "cell_type": "code",
   "execution_count": 30,
   "metadata": {},
   "outputs": [
    {
     "data": {
      "text/plain": [
       "dict_values([{'nome': 'guilherme', 'telefone': '3333-2221'}, {'nome': 'giovanna', 'telefone': '3443-2121'}, {'nome': 'chappie', 'telefone': '3344-9871'}, {'nome': 'melaine', 'telefone': '3333-7766'}])"
      ]
     },
     "execution_count": 30,
     "metadata": {},
     "output_type": "execute_result"
    }
   ],
   "source": [
    "copia.values() # Retorna uma lista com os valores do Dict."
   ]
  },
  {
   "cell_type": "code",
   "execution_count": 32,
   "metadata": {},
   "outputs": [
    {
     "data": {
      "text/plain": [
       "dict_items([('nome', 'chappie'), ('telefone', '3344-9871')])"
      ]
     },
     "execution_count": 32,
     "metadata": {},
     "output_type": "execute_result"
    }
   ],
   "source": [
    "copia['chappie@gmail.com'].items()"
   ]
  },
  {
   "cell_type": "code",
   "execution_count": 33,
   "metadata": {},
   "outputs": [
    {
     "data": {
      "text/plain": [
       "dict_values(['chappie', '3344-9871'])"
      ]
     },
     "execution_count": 33,
     "metadata": {},
     "output_type": "execute_result"
    }
   ],
   "source": [
    "copia['chappie@gmail.com'].values()"
   ]
  },
  {
   "cell_type": "code",
   "execution_count": 34,
   "metadata": {},
   "outputs": [
    {
     "data": {
      "text/plain": [
       "dict_keys(['nome', 'telefone'])"
      ]
     },
     "execution_count": 34,
     "metadata": {},
     "output_type": "execute_result"
    }
   ],
   "source": [
    "copia['chappie@gmail.com'].keys()"
   ]
  }
 ],
 "metadata": {
  "kernelspec": {
   "display_name": "Python 3",
   "language": "python",
   "name": "python3"
  },
  "language_info": {
   "codemirror_mode": {
    "name": "ipython",
    "version": 3
   },
   "file_extension": ".py",
   "mimetype": "text/x-python",
   "name": "python",
   "nbconvert_exporter": "python",
   "pygments_lexer": "ipython3",
   "version": "3.12.1"
  }
 },
 "nbformat": 4,
 "nbformat_minor": 2
}
