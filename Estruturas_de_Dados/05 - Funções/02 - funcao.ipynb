{
 "cells": [
  {
   "cell_type": "code",
   "execution_count": 1,
   "metadata": {},
   "outputs": [],
   "source": [
    "def exemplo(posicao1, posicao2, / , posicao_ou_ChaveValor, * , keyword1, keyword2):\n",
    "    # posicao1 e posicao2 = são passados somentes os valores.\n",
    "    # posicao_ou_ChaveValor = são passados valores e chaves e valores.\n",
    "    # keyword1 e keyword2 = são passados somente chaves e valores.  \n",
    "    return 0"
   ]
  },
  {
   "cell_type": "code",
   "execution_count": 2,
   "metadata": {},
   "outputs": [],
   "source": [
    "def criar_carro(modelo, ano, placa, /, marca, motor, combustivel):\n",
    "    print(modelo, ano, placa, motor, combustivel)"
   ]
  },
  {
   "cell_type": "code",
   "execution_count": 6,
   "metadata": {},
   "outputs": [
    {
     "name": "stdout",
     "output_type": "stream",
     "text": [
      "Palio 1999 ABC-1234 1.0 Gasolina\n"
     ]
    }
   ],
   "source": [
    "# Modo válido de passar os argumentos/valores para a função.\n",
    "criar_carro('Palio', 1999, 'ABC-1234', marca='Fiat', motor='1.0', combustivel='Gasolina')\n",
    "\n",
    "# Modo invalido de passar os argumentos/valores para a função.\n",
    "# criar_carro(modelo='Palio', ano=1999, placa='ABC-1234', marca='Fiat', motor='1.0', combustivel='Gasolina')"
   ]
  },
  {
   "cell_type": "code",
   "execution_count": 7,
   "metadata": {},
   "outputs": [
    {
     "name": "stdout",
     "output_type": "stream",
     "text": [
      "O Resultado é = 30\n"
     ]
    }
   ],
   "source": [
    "# Passando uma função para outra função.\n",
    "def somar(a, b):\n",
    "    return a + b\n",
    "\n",
    "def exibir(a, b, funcao):\n",
    "    resultado = funcao(a, b)\n",
    "    print(f'O Resultado é = {resultado}')\n",
    "\n",
    "exibir(10, 20, somar)"
   ]
  },
  {
   "cell_type": "code",
   "execution_count": 9,
   "metadata": {},
   "outputs": [
    {
     "data": {
      "text/plain": [
       "2500"
      ]
     },
     "execution_count": 9,
     "metadata": {},
     "output_type": "execute_result"
    }
   ],
   "source": [
    "salario = 2000\n",
    "\n",
    "def aumentar_salario(bonus):\n",
    "    global salario  # Passar variavel global dentro de uma função. \n",
    "    salario += bonus\n",
    "    return salario\n",
    "\n",
    "aumentar_salario(500)"
   ]
  }
 ],
 "metadata": {
  "kernelspec": {
   "display_name": "Python 3",
   "language": "python",
   "name": "python3"
  },
  "language_info": {
   "codemirror_mode": {
    "name": "ipython",
    "version": 3
   },
   "file_extension": ".py",
   "mimetype": "text/x-python",
   "name": "python",
   "nbconvert_exporter": "python",
   "pygments_lexer": "ipython3",
   "version": "3.12.1"
  }
 },
 "nbformat": 4,
 "nbformat_minor": 2
}
