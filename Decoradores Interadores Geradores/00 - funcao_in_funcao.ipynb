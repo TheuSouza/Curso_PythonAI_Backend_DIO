{
 "cells": [
  {
   "cell_type": "code",
   "execution_count": 3,
   "metadata": {},
   "outputs": [
    {
     "name": "stdout",
     "output_type": "stream",
     "text": [
      "Eu sou a def pai()\n",
      "Eu sou a def filha()\n",
      "Eu sou a def filho()\n"
     ]
    }
   ],
   "source": [
    "def pai():\n",
    "    print('Eu sou a def pai()')\n",
    "\n",
    "    def filha():\n",
    "        print('Eu sou a def filha()')\n",
    "        \n",
    "    def filho():\n",
    "        print('Eu sou a def filho()')\n",
    "    \n",
    "    filha()\n",
    "    filho()\n",
    "\n",
    "pai()"
   ]
  },
  {
   "cell_type": "code",
   "execution_count": 2,
   "metadata": {},
   "outputs": [
    {
     "name": "stdout",
     "output_type": "stream",
     "text": [
      "6\n",
      "3\n"
     ]
    }
   ],
   "source": [
    "def calcular(operacao):\n",
    "    def soma(a, b):\n",
    "        return a + b\n",
    "\n",
    "    def subtracao(a, b):\n",
    "        return a - b\n",
    "\n",
    "    if operacao == '+':\n",
    "        return soma\n",
    "    elif operacao == '-':\n",
    "        return subtracao\n",
    "\n",
    "resultado = calcular('+')(2, 4)\n",
    "print(resultado)\n",
    "\n",
    "op = calcular('-')\n",
    "print(op(6, 3))\n"
   ]
  },
  {
   "cell_type": "code",
   "execution_count": 6,
   "metadata": {},
   "outputs": [
    {
     "name": "stdout",
     "output_type": "stream",
     "text": [
      "7\n"
     ]
    }
   ],
   "source": [
    "def calcular(operacao):\n",
    "    def soma(a, b):\n",
    "        return a + b\n",
    "\n",
    "    def subtracao(a, b):\n",
    "        return a - b\n",
    "\n",
    "    match operacao:\n",
    "        case '+':\n",
    "            return soma\n",
    "        case '-':\n",
    "            return subtracao\n",
    "\n",
    "resultado = calcular('+')(3, 4)\n",
    "print(resultado)"
   ]
  },
  {
   "cell_type": "code",
   "execution_count": 5,
   "metadata": {},
   "outputs": [
    {
     "name": "stdout",
     "output_type": "stream",
     "text": [
      "Oi Matheus\n",
      "Olá Matheus, seja bem vindo!\n"
     ]
    }
   ],
   "source": [
    "def mensagem(nome):\n",
    "    return f'Oi {nome}'\n",
    "\n",
    "def mensagem_completa(nome):\n",
    "    return f'Olá {nome}, seja bem vindo!'\n",
    "\n",
    "def executar(funcao):\n",
    "    return funcao('Matheus')\n",
    "\n",
    "\n",
    "print(executar(mensagem))\n",
    "print(executar(mensagem_completa))"
   ]
  }
 ],
 "metadata": {
  "kernelspec": {
   "display_name": "Python 3",
   "language": "python",
   "name": "python3"
  },
  "language_info": {
   "codemirror_mode": {
    "name": "ipython",
    "version": 3
   },
   "file_extension": ".py",
   "mimetype": "text/x-python",
   "name": "python",
   "nbconvert_exporter": "python",
   "pygments_lexer": "ipython3",
   "version": "3.12.1"
  }
 },
 "nbformat": 4,
 "nbformat_minor": 2
}
